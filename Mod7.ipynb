{
  "nbformat": 4,
  "nbformat_minor": 0,
  "metadata": {
    "colab": {
      "provenance": [],
      "authorship_tag": "ABX9TyPpNwc9GL5D6xcjC7OkiJhK",
      "include_colab_link": true
    },
    "kernelspec": {
      "name": "python3",
      "display_name": "Python 3"
    },
    "language_info": {
      "name": "python"
    }
  },
  "cells": [
    {
      "cell_type": "markdown",
      "metadata": {
        "id": "view-in-github",
        "colab_type": "text"
      },
      "source": [
        "<a href=\"https://colab.research.google.com/github/Shivam-Ra/EDA/blob/main/Mod7.ipynb\" target=\"_parent\"><img src=\"https://colab.research.google.com/assets/colab-badge.svg\" alt=\"Open In Colab\"/></a>"
      ]
    },
    {
      "cell_type": "code",
      "execution_count": 6,
      "metadata": {
        "id": "6qQZ8lze0QBw"
      },
      "outputs": [],
      "source": [
        "from sklearn.model_selection import train_test_split\n",
        "from sklearn.linear_model import LinearRegression\n",
        "from sklearn.metrics import mean_squared_error, r2_score\n",
        "import pandas as pd\n",
        "from sklearn.impute import SimpleImputer\n",
        "from sklearn.preprocessing import StandardScaler\n",
        "\n",
        "data= pd.read_csv('/content/mroz (1).csv')\n",
        "\n"
      ]
    },
    {
      "cell_type": "code",
      "source": [
        "X = data[['age', 'educ', 'exper', 'kidslt6', 'kidsge6', 'nwifeinc', 'expersq']]\n",
        "y = data['lwage']\n",
        "\n",
        "imputer = SimpleImputer(strategy='mean')\n",
        "data_imputed = imputer.fit_transform(X)\n",
        "\n",
        "# Scale the data\n",
        "scaler = StandardScaler()\n",
        "data_scaled = scaler.fit_transform(data_imputed)"
      ],
      "metadata": {
        "id": "SqwWAKUn1GU8"
      },
      "execution_count": 9,
      "outputs": []
    },
    {
      "cell_type": "code",
      "source": [
        "data_cleaned = data.dropna(subset=['lwage'])"
      ],
      "metadata": {
        "id": "N34xN8X42HGv"
      },
      "execution_count": 12,
      "outputs": []
    },
    {
      "cell_type": "code",
      "source": [
        "X = data_cleaned[['age', 'educ', 'exper', 'kidslt6', 'kidsge6', 'nwifeinc', 'expersq']]\n",
        "y = data_cleaned['lwage']\n",
        "\n",
        "# Splitting the data into training and testing sets (80% train, 20% test)\n",
        "X_train, X_test, y_train, y_test = train_test_split(X, y, test_size=0.2, random_state=42)\n",
        "\n",
        "# Creating and fitting the Linear Regression model\n",
        "model = LinearRegression()\n",
        "model.fit(X_train, y_train)\n",
        "\n",
        "# Making predictions on the test set\n",
        "y_pred = model.predict(X_test)\n",
        "\n",
        "# Calculating evaluation metrics\n",
        "mse = mean_squared_error(y_test, y_pred)\n",
        "r2 = r2_score(y_test, y_pred)\n",
        "\n",
        "print(f\"Mean Squared Error (MSE): {mse}\")\n",
        "print(f\"R-squared (R²): {r2}\")"
      ],
      "metadata": {
        "colab": {
          "base_uri": "https://localhost:8080/"
        },
        "id": "Geb1mINe0-LQ",
        "outputId": "a3a2d2be-1331-4635-e2ae-817e87ed65c6"
      },
      "execution_count": 15,
      "outputs": [
        {
          "output_type": "stream",
          "name": "stdout",
          "text": [
            "Mean Squared Error (MSE): 0.4996852595745947\n",
            "R-squared (R²): 0.06073934533540626\n"
          ]
        }
      ]
    }
  ]
}