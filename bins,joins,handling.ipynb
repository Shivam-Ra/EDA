{
  "nbformat": 4,
  "nbformat_minor": 0,
  "metadata": {
    "colab": {
      "provenance": [],
      "authorship_tag": "ABX9TyOfsKu3trAjwSKWz0juhtek",
      "include_colab_link": true
    },
    "kernelspec": {
      "name": "python3",
      "display_name": "Python 3"
    },
    "language_info": {
      "name": "python"
    }
  },
  "cells": [
    {
      "cell_type": "markdown",
      "metadata": {
        "id": "view-in-github",
        "colab_type": "text"
      },
      "source": [
        "<a href=\"https://colab.research.google.com/github/Shivam-Ra/EDA/blob/main/bins%2Cjoins%2Chandling.ipynb\" target=\"_parent\"><img src=\"https://colab.research.google.com/assets/colab-badge.svg\" alt=\"Open In Colab\"/></a>"
      ]
    },
    {
      "cell_type": "code",
      "execution_count": null,
      "metadata": {
        "id": "Q_Ib0GpKiNz1"
      },
      "outputs": [],
      "source": [
        "import pandas as pd\n",
        "import numpy as np\n",
        "\n",
        "db = pd.read_csv('21BCE3727.csv')"
      ]
    },
    {
      "cell_type": "code",
      "source": [
        "age = db['age'].tolist()\n",
        "bins_age = [ 30, 35, 40, 45, 50,55,60]\n",
        "age_category = pd.cut(age, bins_age)\n",
        "print(\"Age Category:\\n\", age_category)"
      ],
      "metadata": {
        "colab": {
          "base_uri": "https://localhost:8080/"
        },
        "id": "JDIoe548i1F9",
        "outputId": "f8672a65-3302-43e1-eb93-22b42350cdae"
      },
      "execution_count": null,
      "outputs": [
        {
          "output_type": "stream",
          "name": "stdout",
          "text": [
            "Age Category:\n",
            " [(30.0, 35.0], NaN, (30.0, 35.0], (30.0, 35.0], (30.0, 35.0], ..., (35, 40], (30, 35], (40, 45], (55, 60], (35, 40]]\n",
            "Length: 753\n",
            "Categories (6, interval[int64, right]): [(30, 35] < (35, 40] < (40, 45] < (45, 50] < (50, 55] <\n",
            "                                         (55, 60]]\n"
          ]
        }
      ]
    },
    {
      "cell_type": "code",
      "source": [
        "# Check the number of values in each bin\n",
        "print(\"\\nCount of Age Categories:\\n\", pd.Series(age_category).value_counts())"
      ],
      "metadata": {
        "colab": {
          "base_uri": "https://localhost:8080/"
        },
        "id": "8oUMWHDTj2s_",
        "outputId": "99c24167-7db5-4469-e735-20cabbdc281f"
      },
      "execution_count": null,
      "outputs": [
        {
          "output_type": "stream",
          "name": "stdout",
          "text": [
            "\n",
            "Count of Age Categories:\n",
            " (30, 35]    148\n",
            "(40, 45]    144\n",
            "(45, 50]    144\n",
            "(35, 40]    132\n",
            "(50, 55]    104\n",
            "(55, 60]     43\n",
            "Name: count, dtype: int64\n"
          ]
        }
      ]
    },
    {
      "cell_type": "code",
      "source": [
        "\n",
        "random_numbers = np.random.rand(2000)\n",
        "quantile_bins = pd.qcut(random_numbers, 6)\n",
        "print(\"\\nQuantile Bins:\\n\", quantile_bins)\n",
        "print(\"\\nCount of Quantile Bins:\\n\", pd.Series(quantile_bins).value_counts())"
      ],
      "metadata": {
        "colab": {
          "base_uri": "https://localhost:8080/"
        },
        "id": "kTAkZk9vkIT5",
        "outputId": "6e312315-01a7-4690-e55f-f70a0a389d7a"
      },
      "execution_count": null,
      "outputs": [
        {
          "output_type": "stream",
          "name": "stdout",
          "text": [
            "\n",
            "Quantile Bins:\n",
            " [(0.487, 0.662], (0.487, 0.662], (0.83, 0.999], (0.166, 0.33], (0.33, 0.487], ..., (0.487, 0.662], (0.166, 0.33], (-0.000595, 0.166], (0.33, 0.487], (0.83, 0.999]]\n",
            "Length: 2000\n",
            "Categories (6, interval[float64, right]): [(-0.000595, 0.166] < (0.166, 0.33] < (0.33, 0.487] <\n",
            "                                           (0.487, 0.662] < (0.662, 0.83] < (0.83, 0.999]]\n",
            "\n",
            "Count of Quantile Bins:\n",
            " (-0.000595, 0.166]    334\n",
            "(0.83, 0.999]         334\n",
            "(0.166, 0.33]         333\n",
            "(0.33, 0.487]         333\n",
            "(0.487, 0.662]        333\n",
            "(0.662, 0.83]         333\n",
            "Name: count, dtype: int64\n"
          ]
        }
      ]
    },
    {
      "cell_type": "code",
      "source": [
        "# Calculate TotalIncome based on Faminc and CCAvg\n",
        "db['TotalIncome'] = db['faminc'] + db['wage'] * 1000  # Adjusted calculation for Faminc\n",
        "print(\"\\nAccount and Total Income:\\n\", db[['rownames', 'TotalIncome']])\n"
      ],
      "metadata": {
        "colab": {
          "base_uri": "https://localhost:8080/"
        },
        "id": "Sy0xy0relwH7",
        "outputId": "a4c9edd0-3a2b-4ad1-92bc-41d947c636ff"
      },
      "execution_count": null,
      "outputs": [
        {
          "output_type": "stream",
          "name": "stdout",
          "text": [
            "\n",
            "Account and Total Income:\n",
            "      rownames   TotalIncome\n",
            "0           1  19664.000092\n",
            "1           2  23188.900042\n",
            "2           3  25585.499802\n",
            "3           4   8396.500039\n",
            "4           5  31891.800213\n",
            "..        ...           ...\n",
            "748       749           NaN\n",
            "749       750           NaN\n",
            "750       751           NaN\n",
            "751       752           NaN\n",
            "752       753           NaN\n",
            "\n",
            "[753 rows x 2 columns]\n"
          ]
        }
      ]
    },
    {
      "cell_type": "code",
      "source": [
        "# Set the threshold for TotalIncome (you can change this value as needed)\n",
        "threshold = 30000\n",
        "\n",
        "# Filter the DataFrame for rows where TotalIncome exceeds the threshold\n",
        "high_income_transactions = db[db['TotalIncome'] > threshold]\n",
        "\n",
        "# Display the transactions that exceeded the threshold\n",
        "print(\"\\nTransactions exceeding the TotalIncome threshold:\\n\", high_income_transactions[['rownames', 'TotalIncome']])\n"
      ],
      "metadata": {
        "colab": {
          "base_uri": "https://localhost:8080/"
        },
        "id": "VKR8MMzalsp1",
        "outputId": "568e767f-23fc-48cd-d113-0cd10310d52b"
      },
      "execution_count": null,
      "outputs": [
        {
          "output_type": "stream",
          "name": "stdout",
          "text": [
            "\n",
            "Transactions exceeding the TotalIncome threshold:\n",
            "      rownames   TotalIncome\n",
            "4           5  31891.800213\n",
            "10         11  36363.000202\n",
            "11         12  33291.800213\n",
            "14         15  35110.699898\n",
            "20         21  33924.199909\n",
            "..        ...           ...\n",
            "414       415  34342.700028\n",
            "416       417  42266.900063\n",
            "424       425  40947.099892\n",
            "425       426  40087.499828\n",
            "426       427  33409.100056\n",
            "\n",
            "[149 rows x 2 columns]\n"
          ]
        }
      ]
    },
    {
      "cell_type": "code",
      "source": [
        "df1 = pd.DataFrame({\n",
        "    'ID': [1, 2, 3, 4],\n",
        "    'Name': ['Alice', 'Bob', 'Charlie', 'David'],\n",
        "    'Age': [25, 30, 35, 40]\n",
        "})\n",
        "\n",
        "df2 = pd.DataFrame({\n",
        "    'ID': [3, 4, 5, 6],\n",
        "    'Name': ['Charlie', 'David', 'Edward', 'Frank'],\n",
        "    'Income': [50000, 60000, 70000, 80000]\n",
        "})"
      ],
      "metadata": {
        "id": "ZzXzjgm0m1ZG"
      },
      "execution_count": null,
      "outputs": []
    },
    {
      "cell_type": "code",
      "source": [
        "# 1. Concatenation\n",
        "concat_df = pd.concat([df1, df2], ignore_index=True)\n",
        "print(\"Concatenated DataFrame:\\n\", concat_df)"
      ],
      "metadata": {
        "colab": {
          "base_uri": "https://localhost:8080/"
        },
        "id": "pBH7X56dngtf",
        "outputId": "31d417c3-edfb-4395-ebfd-e38517c9d2cd"
      },
      "execution_count": null,
      "outputs": [
        {
          "output_type": "stream",
          "name": "stdout",
          "text": [
            "Concatenated DataFrame:\n",
            "    ID     Name   Age   Income\n",
            "0   1    Alice  25.0      NaN\n",
            "1   2      Bob  30.0      NaN\n",
            "2   3  Charlie  35.0      NaN\n",
            "3   4    David  40.0      NaN\n",
            "4   3  Charlie   NaN  50000.0\n",
            "5   4    David   NaN  60000.0\n",
            "6   5   Edward   NaN  70000.0\n",
            "7   6    Frank   NaN  80000.0\n"
          ]
        }
      ]
    },
    {
      "cell_type": "code",
      "source": [
        "# 2. Left Join\n",
        "left_join_df = pd.merge(df1, df2, on='ID', how='left')\n",
        "print(\"\\nLeft Join DataFrame:\\n\", left_join_df)"
      ],
      "metadata": {
        "colab": {
          "base_uri": "https://localhost:8080/"
        },
        "id": "hHevd9OFnjTE",
        "outputId": "8a5861e0-a731-4dc3-d62e-5cbe471922d8"
      },
      "execution_count": null,
      "outputs": [
        {
          "output_type": "stream",
          "name": "stdout",
          "text": [
            "\n",
            "Left Join DataFrame:\n",
            "    ID   Name_x  Age   Name_y   Income\n",
            "0   1    Alice   25      NaN      NaN\n",
            "1   2      Bob   30      NaN      NaN\n",
            "2   3  Charlie   35  Charlie  50000.0\n",
            "3   4    David   40    David  60000.0\n"
          ]
        }
      ]
    },
    {
      "cell_type": "code",
      "source": [
        "# 3. Right Join\n",
        "right_join_df = pd.merge(df1, df2, on='ID', how='right')\n",
        "print(\"\\nRight Join DataFrame:\\n\", right_join_df)"
      ],
      "metadata": {
        "colab": {
          "base_uri": "https://localhost:8080/"
        },
        "id": "CFzSGVGrnmNE",
        "outputId": "27460d40-01c3-4b64-ae8f-aec6a503d6e4"
      },
      "execution_count": null,
      "outputs": [
        {
          "output_type": "stream",
          "name": "stdout",
          "text": [
            "\n",
            "Right Join DataFrame:\n",
            "    ID   Name_x   Age   Name_y  Income\n",
            "0   3  Charlie  35.0  Charlie   50000\n",
            "1   4    David  40.0    David   60000\n",
            "2   5      NaN   NaN   Edward   70000\n",
            "3   6      NaN   NaN    Frank   80000\n"
          ]
        }
      ]
    },
    {
      "cell_type": "code",
      "source": [
        "# 4. Inner Join\n",
        "inner_join_df = pd.merge(df1, df2, on='ID', how='inner')\n",
        "print(\"\\nInner Join DataFrame:\\n\", inner_join_df)"
      ],
      "metadata": {
        "colab": {
          "base_uri": "https://localhost:8080/"
        },
        "id": "iIUSRfeBnogw",
        "outputId": "f563a4a3-f29e-4567-9a94-bf5c13a677ac"
      },
      "execution_count": null,
      "outputs": [
        {
          "output_type": "stream",
          "name": "stdout",
          "text": [
            "\n",
            "Inner Join DataFrame:\n",
            "    ID   Name_x  Age   Name_y  Income\n",
            "0   3  Charlie   35  Charlie   50000\n",
            "1   4    David   40    David   60000\n"
          ]
        }
      ]
    },
    {
      "cell_type": "code",
      "source": [
        "\n",
        "\n",
        "# Create a DataFrame with a multi-level (hierarchical) index\n",
        "data = {\n",
        "    'City': ['New York', 'New York', 'London', 'London'],\n",
        "    'Year': [2020, 2021, 2020, 2021],\n",
        "    'Population': [8_336_817, 8_398_748, 8_982_000, 9_002_488],\n",
        "    'GDP': [1700, 1800, 650, 700]\n",
        "}\n",
        "\n",
        "df = pd.DataFrame(data)\n",
        "\n",
        "# Set City and Year as a MultiIndex\n",
        "df.set_index(['City', 'Year'], inplace=True)\n",
        "print(\"Original DataFrame with MultiIndex:\\n\", df)\n",
        "\n"
      ],
      "metadata": {
        "colab": {
          "base_uri": "https://localhost:8080/"
        },
        "id": "2uiZGdbsoTig",
        "outputId": "b90d4b1f-300a-48bb-cab7-370be2f1aea4"
      },
      "execution_count": null,
      "outputs": [
        {
          "output_type": "stream",
          "name": "stdout",
          "text": [
            "Original DataFrame with MultiIndex:\n",
            "                Population   GDP\n",
            "City     Year                  \n",
            "New York 2020     8336817  1700\n",
            "         2021     8398748  1800\n",
            "London   2020     8982000   650\n",
            "         2021     9002488   700\n"
          ]
        }
      ]
    },
    {
      "cell_type": "code",
      "source": [
        "# Using unstack() to pivot data (move the inner index 'Year' to columns)\n",
        "unstacked_df = df.unstack(level='Year')\n",
        "print(\"\\nUnstacked DataFrame (Year as columns):\\n\", unstacked_df)"
      ],
      "metadata": {
        "colab": {
          "base_uri": "https://localhost:8080/"
        },
        "id": "_Hw17_7bocUH",
        "outputId": "60cdaf24-9998-4362-9ec1-2152c9dce976"
      },
      "execution_count": null,
      "outputs": [
        {
          "output_type": "stream",
          "name": "stdout",
          "text": [
            "\n",
            "Unstacked DataFrame (Year as columns):\n",
            "          Population            GDP      \n",
            "Year           2020     2021  2020  2021\n",
            "City                                    \n",
            "London      8982000  9002488   650   700\n",
            "New York    8336817  8398748  1700  1800\n"
          ]
        }
      ]
    },
    {
      "cell_type": "code",
      "source": [
        "#Using stack() to collapse columns into rows (reverse of unstack)\n",
        "stacked_df = unstacked_df.stack()\n",
        "print(\"\\nStacked DataFrame (Collapsed back to original):\\n\", stacked_df)"
      ],
      "metadata": {
        "colab": {
          "base_uri": "https://localhost:8080/"
        },
        "id": "H6PVeL_qog8Y",
        "outputId": "7c28e38d-7eba-4d39-c136-7421bb782875"
      },
      "execution_count": null,
      "outputs": [
        {
          "output_type": "stream",
          "name": "stdout",
          "text": [
            "\n",
            "Stacked DataFrame (Collapsed back to original):\n",
            "                Population   GDP\n",
            "City     Year                  \n",
            "London   2020     8982000   650\n",
            "         2021     9002488   700\n",
            "New York 2020     8336817  1700\n",
            "         2021     8398748  1800\n"
          ]
        }
      ]
    },
    {
      "cell_type": "code",
      "source": [
        "#Pivot table (Reshape the data by City and Year)\n",
        "pivot_df = df.reset_index().pivot(index='City', columns='Year', values='Population')\n",
        "print(\"\\nPivoted DataFrame (Population by Year and City):\\n\", pivot_df)"
      ],
      "metadata": {
        "colab": {
          "base_uri": "https://localhost:8080/"
        },
        "id": "eeuaq6Gsol3K",
        "outputId": "7c644d95-c290-409e-9f99-dfe2ff1a7f5c"
      },
      "execution_count": null,
      "outputs": [
        {
          "output_type": "stream",
          "name": "stdout",
          "text": [
            "\n",
            "Pivoted DataFrame (Population by Year and City):\n",
            " Year         2020     2021\n",
            "City                      \n",
            "London    8982000  9002488\n",
            "New York  8336817  8398748\n"
          ]
        }
      ]
    },
    {
      "cell_type": "code",
      "source": [
        "# Replacing values\n",
        "# Sample DataFrame\n",
        "data = {\n",
        "    'Name': ['Alice', 'Bob', 'Charlie', 'David'],\n",
        "    'Gender': ['F', 'M', 'M', 'M'],\n",
        "    'Age': [25, 30, 35, -999],\n",
        "    'Income': [50000, 60000, -1, 80000]\n",
        "}\n",
        "\n",
        "df = pd.DataFrame(data)\n",
        "print(\"Original DataFrame:\\n\", df)\n",
        "\n",
        "\n",
        "# Replacing single values (replace 'M' with 'Male' and 'F' with 'Female' in Gender column)\n",
        "df['Gender'].replace({'M': 'Male', 'F': 'Female'}, inplace=True)\n",
        "print(\"\\nDataFrame after replacing gender abbreviations:\\n\", df)\n",
        "\n",
        "#Replacing multiple values at once across the entire DataFrame\n",
        "df.replace([60000, 80000], [62000, 82000], inplace=True)\n",
        "print(\"\\nDataFrame after replacing multiple income values:\\n\", df)\n"
      ],
      "metadata": {
        "colab": {
          "base_uri": "https://localhost:8080/"
        },
        "id": "ixiaJNLzo9JD",
        "outputId": "4248ec2c-31cb-412f-8245-52c2b3b3af58"
      },
      "execution_count": null,
      "outputs": [
        {
          "output_type": "stream",
          "name": "stdout",
          "text": [
            "Original DataFrame:\n",
            "       Name Gender  Age  Income\n",
            "0    Alice      F   25   50000\n",
            "1      Bob      M   30   60000\n",
            "2  Charlie      M   35      -1\n",
            "3    David      M -999   80000\n",
            "\n",
            "DataFrame after replacing invalid values with NaN:\n",
            "       Name Gender   Age Income\n",
            "0    Alice      F    25  50000\n",
            "1      Bob      M    30  60000\n",
            "2  Charlie      M    35   <NA>\n",
            "3    David      M  <NA>  80000\n",
            "\n",
            "DataFrame after replacing gender abbreviations:\n",
            "       Name  Gender   Age Income\n",
            "0    Alice  Female    25  50000\n",
            "1      Bob    Male    30  60000\n",
            "2  Charlie    Male    35   <NA>\n",
            "3    David    Male  <NA>  80000\n",
            "\n",
            "DataFrame after replacing multiple income values:\n",
            "       Name  Gender   Age Income\n",
            "0    Alice  Female    25  50000\n",
            "1      Bob    Male    30  62000\n",
            "2  Charlie    Male    35   <NA>\n",
            "3    David    Male  <NA>  82000\n"
          ]
        }
      ]
    },
    {
      "cell_type": "code",
      "source": [
        "# 1. Check for missing values in the entire DataFrame\n",
        "print(\"\\nChecking for missing values in the entire DataFrame:\\n\")\n",
        "print(df.isnull())\n",
        "\n",
        "# 2. Count the total number of missing values in each column\n",
        "print(\"\\nTotal missing values per column:\\n\")\n",
        "print(df.isnull().sum())"
      ],
      "metadata": {
        "colab": {
          "base_uri": "https://localhost:8080/"
        },
        "id": "47eYB62xpU7s",
        "outputId": "fa6fa864-b7e9-4fb7-fd40-0f8dd08031f3"
      },
      "execution_count": null,
      "outputs": [
        {
          "output_type": "stream",
          "name": "stdout",
          "text": [
            "\n",
            "Checking for missing values in the entire DataFrame:\n",
            "\n",
            "    Name  Gender    Age  Income\n",
            "0  False   False  False   False\n",
            "1  False   False  False   False\n",
            "2  False   False  False    True\n",
            "3  False   False   True   False\n",
            "\n",
            "Total missing values per column:\n",
            "\n",
            "Name      0\n",
            "Gender    0\n",
            "Age       1\n",
            "Income    1\n",
            "dtype: int64\n"
          ]
        }
      ]
    },
    {
      "cell_type": "code",
      "source": [
        "# Drop rows where the 'Income' column has missing values\n",
        "df_cleaned = df.dropna(subset=['Income'])\n",
        "\n",
        "print(\"\\nDataFrame after dropping rows with missing 'Income':\\n\", df_cleaned)\n"
      ],
      "metadata": {
        "colab": {
          "base_uri": "https://localhost:8080/"
        },
        "id": "KOIKnzv7p0sU",
        "outputId": "3618c418-36f7-4925-cdfc-7cf83266e310"
      },
      "execution_count": null,
      "outputs": [
        {
          "output_type": "stream",
          "name": "stdout",
          "text": [
            "\n",
            "DataFrame after dropping rows with missing 'Income':\n",
            "     Name  Gender   Age Income\n",
            "0  Alice  Female    25  50000\n",
            "1    Bob    Male    30  62000\n",
            "3  David    Male  <NA>  82000\n"
          ]
        }
      ]
    },
    {
      "cell_type": "code",
      "source": [
        "# Calculate the mean of the 'Age' column, ignoring NaN values\n",
        "mean_age = df['Age'].mean()\n",
        "\n",
        "# Replace missing values in 'Age' with the calculated mean\n",
        "df_cleaned['Age'].fillna(mean_age, inplace=True)\n",
        "\n",
        "print(\"\\nDataFrame after replacing missing 'Age' with mean:\\n\", df_cleaned)\n"
      ],
      "metadata": {
        "colab": {
          "base_uri": "https://localhost:8080/"
        },
        "id": "CVczaYgop9Kt",
        "outputId": "e5f710e6-b238-416e-b980-26267f17f3bf"
      },
      "execution_count": null,
      "outputs": [
        {
          "output_type": "stream",
          "name": "stdout",
          "text": [
            "\n",
            "DataFrame after replacing missing 'Age' with mean:\n",
            "     Name  Gender   Age Income\n",
            "0  Alice  Female  25.0  50000\n",
            "1    Bob    Male  30.0  62000\n",
            "3  David    Male  30.0  82000\n"
          ]
        },
        {
          "output_type": "stream",
          "name": "stderr",
          "text": [
            "<ipython-input-41-175ccf3280c7>:5: SettingWithCopyWarning: \n",
            "A value is trying to be set on a copy of a slice from a DataFrame\n",
            "\n",
            "See the caveats in the documentation: https://pandas.pydata.org/pandas-docs/stable/user_guide/indexing.html#returning-a-view-versus-a-copy\n",
            "  df_cleaned['Age'].fillna(mean_age, inplace=True)\n"
          ]
        }
      ]
    },
    {
      "cell_type": "code",
      "source": [],
      "metadata": {
        "id": "n8BoviJkp1ZX"
      },
      "execution_count": null,
      "outputs": []
    },
    {
      "cell_type": "markdown",
      "source": [
        "# New Section"
      ],
      "metadata": {
        "id": "4EEQP8NeiZaO"
      }
    }
  ]
}