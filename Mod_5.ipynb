{
  "nbformat": 4,
  "nbformat_minor": 0,
  "metadata": {
    "colab": {
      "provenance": [],
      "authorship_tag": "ABX9TyPWfXh6OSFK+EQXDqz5a76F",
      "include_colab_link": true
    },
    "kernelspec": {
      "name": "python3",
      "display_name": "Python 3"
    },
    "language_info": {
      "name": "python"
    }
  },
  "cells": [
    {
      "cell_type": "markdown",
      "metadata": {
        "id": "view-in-github",
        "colab_type": "text"
      },
      "source": [
        "<a href=\"https://colab.research.google.com/github/Shivam-Ra/EDA/blob/main/Mod_5.ipynb\" target=\"_parent\"><img src=\"https://colab.research.google.com/assets/colab-badge.svg\" alt=\"Open In Colab\"/></a>"
      ]
    },
    {
      "cell_type": "code",
      "execution_count": 28,
      "metadata": {
        "id": "hqZdKI1i8eG3"
      },
      "outputs": [],
      "source": [
        "from sklearn.impute import SimpleImputer\n",
        "from sklearn.preprocessing import StandardScaler\n",
        "from sklearn.cluster import SpectralClustering\n",
        "from sklearn.preprocessing import StandardScaler\n",
        "from sklearn.mixture import GaussianMixture\n",
        "from scipy.cluster.hierarchy import dendrogram, linkage, fcluster\n",
        "import matplotlib.pyplot as plt\n",
        "from scipy.spatial.distance import pdist, squareform\n",
        "from scipy.sparse.csgraph import minimum_spanning_tree\n",
        "\n",
        "import networkx as nx\n",
        "\n",
        "import pandas as pd\n",
        "import numpy as np\n",
        "\n",
        "\n",
        "data= pd.read_csv('/content/mroz (1).csv')"
      ]
    },
    {
      "cell_type": "code",
      "source": [],
      "metadata": {
        "id": "Tl8a2_DpS8Hn"
      },
      "execution_count": null,
      "outputs": []
    },
    {
      "cell_type": "code",
      "source": [
        "data_subset = data[['hours', 'wage', 'educ']]\n",
        "\n",
        "\n",
        "# Impute missing values with the mean of each column\n",
        "imputer = SimpleImputer(strategy='mean')\n",
        "data_imputed = imputer.fit_transform(data_subset)\n",
        "\n",
        "scaler = StandardScaler()\n",
        "data_scaled = scaler.fit_transform(data_imputed)"
      ],
      "metadata": {
        "id": "teLWYCRAPdto"
      },
      "execution_count": 19,
      "outputs": []
    },
    {
      "cell_type": "code",
      "source": [
        "spectral_cluster = SpectralClustering(n_clusters=3, affinity='nearest_neighbors', random_state=42)\n",
        "clusters = spectral_cluster.fit_predict(data_scaled)\n",
        "\n",
        "# Add the clustering results to the original dataframe\n",
        "data['SpectralCluster'] = clusters\n",
        "\n",
        "# Display the first few rows of relevant columns\n",
        "print(data[['hours', 'wage', 'educ', 'SpectralCluster']].head())"
      ],
      "metadata": {
        "colab": {
          "base_uri": "https://localhost:8080/"
        },
        "id": "r0QtuIwuPh1K",
        "outputId": "29ae4f95-8806-4d0f-d7c6-b3556ed5eb2c"
      },
      "execution_count": 20,
      "outputs": [
        {
          "output_type": "stream",
          "name": "stderr",
          "text": [
            "/usr/local/lib/python3.10/dist-packages/sklearn/manifold/_spectral_embedding.py:329: UserWarning: Graph is not fully connected, spectral embedding may not work as expected.\n",
            "  warnings.warn(\n"
          ]
        },
        {
          "output_type": "stream",
          "name": "stdout",
          "text": [
            "   hours    wage  educ  SpectralCluster\n",
            "0   1610  3.3540    12                0\n",
            "1   1656  1.3889    12                0\n",
            "2   1980  4.5455    12                0\n",
            "3    456  1.0965    12                0\n",
            "4   1568  4.5918    14                0\n"
          ]
        }
      ]
    },
    {
      "cell_type": "code",
      "source": [
        "data_subset = data[['hours', 'wage', 'educ']]\n",
        "scaler = StandardScaler()\n",
        "data_scaled = scaler.fit_transform(data_subset)"
      ],
      "metadata": {
        "id": "Pli9bagSReYR"
      },
      "execution_count": 21,
      "outputs": []
    },
    {
      "cell_type": "code",
      "source": [
        "# Compute the pairwise distance matrix\n",
        "distance_matrix = squareform(pdist(data_scaled))\n",
        "\n",
        "# Construct the Minimum Spanning Tree (MST)\n",
        "mst_matrix = minimum_spanning_tree(distance_matrix).toarray()\n",
        "\n",
        "# Convert MST to a NetworkX graph for easier manipulation\n",
        "mst_graph = nx.Graph(mst_matrix)"
      ],
      "metadata": {
        "id": "uGb5M5pGRfyX"
      },
      "execution_count": 22,
      "outputs": []
    },
    {
      "cell_type": "code",
      "source": [
        "# Set the number of clusters by removing edges with the highest weights\n",
        "n_clusters = 3\n",
        "edges_to_remove = sorted(mst_graph.edges(data=True), key=lambda x: x[2]['weight'], reverse=True)[:n_clusters-1]\n",
        "mst_graph.remove_edges_from([(u, v) for u, v, w in edges_to_remove])\n",
        "\n",
        "# Extract connected components as clusters\n",
        "clusters = list(nx.connected_components(mst_graph))\n",
        "\n",
        "# Assign cluster labels to each data point\n",
        "cluster_labels = np.zeros(len(data_scaled), dtype=int)\n",
        "for cluster_id, nodes in enumerate(clusters):\n",
        "    for node in nodes:\n",
        "        cluster_labels[node] = cluster_id\n",
        "\n",
        "# Add the MST clustering results to the original dataframe\n",
        "data['MSTCluster'] = cluster_labels\n",
        "\n",
        "# Display the first few rows of relevant columns\n",
        "print(data[['hours', 'wage', 'educ', 'MSTCluster']].head())"
      ],
      "metadata": {
        "colab": {
          "base_uri": "https://localhost:8080/"
        },
        "id": "mgo-CzB7SSt_",
        "outputId": "c127685f-8689-4cd5-d29c-b67586eda899"
      },
      "execution_count": 23,
      "outputs": [
        {
          "output_type": "stream",
          "name": "stdout",
          "text": [
            "   hours    wage  educ  MSTCluster\n",
            "0   1610  3.3540    12           0\n",
            "1   1656  1.3889    12           0\n",
            "2   1980  4.5455    12           0\n",
            "3    456  1.0965    12           0\n",
            "4   1568  4.5918    14           0\n"
          ]
        }
      ]
    },
    {
      "cell_type": "code",
      "source": [
        "data_subset = data[['hours', 'wage', 'educ']]\n",
        "\n",
        "\n",
        "# Impute missing values with the mean of each column\n",
        "imputer = SimpleImputer(strategy='mean')\n",
        "data_imputed = imputer.fit_transform(data_subset)\n",
        "\n",
        "scaler = StandardScaler()\n",
        "data_scaled = scaler.fit_transform(data_imputed)\n",
        "\n",
        "# Apply Gaussian Mixture Model clustering with 3 clusters\n",
        "gmm = GaussianMixture(n_components=3, random_state=42)\n",
        "gmm.fit(data_scaled)\n",
        "gmm_clusters = gmm.predict(data_scaled)\n",
        "\n",
        "# Add the GMM clustering results to the original dataframe\n",
        "data['GMMCluster'] = gmm_clusters\n",
        "\n",
        "# Display the first few rows of relevant columns\n",
        "print(data[['hours', 'wage', 'educ', 'GMMCluster']].head())"
      ],
      "metadata": {
        "colab": {
          "base_uri": "https://localhost:8080/"
        },
        "id": "TRDR-VV7SUaA",
        "outputId": "cf0950bf-7527-49c8-c04d-d104556c35a7"
      },
      "execution_count": 26,
      "outputs": [
        {
          "output_type": "stream",
          "name": "stdout",
          "text": [
            "   hours    wage  educ  GMMCluster\n",
            "0   1610  3.3540    12           2\n",
            "1   1656  1.3889    12           2\n",
            "2   1980  4.5455    12           2\n",
            "3    456  1.0965    12           2\n",
            "4   1568  4.5918    14           2\n"
          ]
        }
      ]
    },
    {
      "cell_type": "code",
      "source": [
        "data_subset = data[['hours', 'wage', 'educ']]\n",
        "\n",
        "\n",
        "# Impute missing values with the mean of each column\n",
        "imputer = SimpleImputer(strategy='mean')\n",
        "data_imputed = imputer.fit_transform(data_subset)\n",
        "\n",
        "scaler = StandardScaler()\n",
        "data_scaled = scaler.fit_transform(data_imputed)\n",
        "linkage_matrix = linkage(data_scaled, method='ward')\n",
        "\n",
        "# Plot the dendrogram to visualize the clustering hierarchy\n",
        "plt.figure(figsize=(10, 7))\n",
        "dendrogram(linkage_matrix, truncate_mode='lastp', p=10, show_leaf_counts=True)\n",
        "plt.title(\"Hierarchical Clustering Dendrogram\")\n",
        "plt.xlabel(\"Sample index or (Cluster size)\")\n",
        "plt.ylabel(\"Distance\")\n",
        "plt.show()\n",
        "\n",
        "# Set the number of clusters and create labels\n",
        "n_clusters = 3\n",
        "hac_clusters = fcluster(linkage_matrix, n_clusters, criterion='maxclust')\n",
        "\n",
        "# Add the HAC clustering results to the original dataframe\n",
        "data['HACCluster'] = hac_clusters\n",
        "\n",
        "# Display the first few rows of relevant columns\n",
        "print(data[['hours', 'wage', 'educ', 'HACCluster']].head())"
      ],
      "metadata": {
        "colab": {
          "base_uri": "https://localhost:8080/",
          "height": 749
        },
        "id": "3qWmha8oSoJI",
        "outputId": "4ba11307-8f34-4263-f539-063efb1f6170"
      },
      "execution_count": 29,
      "outputs": [
        {
          "output_type": "display_data",
          "data": {
            "text/plain": [
              "<Figure size 1000x700 with 1 Axes>"
            ],
            "image/png": "[encoded data removed]"
          },
          "metadata": {}
        },
        {
          "output_type": "stream",
          "name": "stdout",
          "text": [
            "   hours    wage  educ  HACCluster\n",
            "0   1610  3.3540    12           2\n",
            "1   1656  1.3889    12           1\n",
            "2   1980  4.5455    12           2\n",
            "3    456  1.0965    12           1\n",
            "4   1568  4.5918    14           2\n"
          ]
        }
      ]
    },
    {
      "cell_type": "code",
      "source": [
        "gmm = GaussianMixture(n_components=3, random_state=42)\n",
        "gmm.fit(data_scaled)\n",
        "gmm_clusters = gmm.predict(data_scaled)\n",
        "\n",
        "# Get the probability of each data point belonging to its assigned cluster\n",
        "probs = gmm.predict_proba(data_scaled).max(axis=1)\n",
        "\n",
        "# Set a threshold for identifying outliers (e.g., low probability threshold)\n",
        "outlier_threshold = 0.2  # Points with prob < 0.2 are considered outliers\n",
        "outliers = probs < outlier_threshold\n",
        "\n",
        "# Add results to the original dataframe\n",
        "data['GMMCluster'] = gmm_clusters\n",
        "data['Outlier'] = outliers\n",
        "\n",
        "# Display outlier status along with relevant columns\n",
        "print(data[['hours', 'wage', 'educ', 'GMMCluster', 'Outlier']])"
      ],
      "metadata": {
        "colab": {
          "base_uri": "https://localhost:8080/"
        },
        "id": "_cWI-NXxS9ld",
        "outputId": "d5a78d79-0638-49e9-edf6-183c0853d11c"
      },
      "execution_count": 30,
      "outputs": [
        {
          "output_type": "stream",
          "name": "stdout",
          "text": [
            "     hours    wage  educ  GMMCluster  Outlier\n",
            "0     1610  3.3540    12           2    False\n",
            "1     1656  1.3889    12           2    False\n",
            "2     1980  4.5455    12           2    False\n",
            "3      456  1.0965    12           2    False\n",
            "4     1568  4.5918    14           2    False\n",
            "..     ...     ...   ...         ...      ...\n",
            "748      0     NaN    13           0    False\n",
            "749      0     NaN    12           0    False\n",
            "750      0     NaN    12           0    False\n",
            "751      0     NaN    12           0    False\n",
            "752      0     NaN     9           0    False\n",
            "\n",
            "[753 rows x 5 columns]\n"
          ]
        }
      ]
    }
  ]
}